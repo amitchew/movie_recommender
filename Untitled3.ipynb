{
 "cells": [
  {
   "cell_type": "code",
   "execution_count": 4,
   "id": "46112714",
   "metadata": {},
   "outputs": [],
   "source": [
    "import pandas as pd\n",
    "import numpy as np\n",
    "import difflib\n",
    "from sklearn.feature_extraction.text import TfidfVectorizer\n",
    "from sklearn.metrics.pairwise import cosine_similarity\n",
    "from sklearn.model_selection import train_test_split"
   ]
  },
  {
   "cell_type": "code",
   "execution_count": 5,
   "id": "e492722a",
   "metadata": {},
   "outputs": [],
   "source": [
    "movies_data= pd.read_csv(\"movies.csv\")"
   ]
  },
  {
   "cell_type": "code",
   "execution_count": 6,
   "id": "f2fe92a0",
   "metadata": {},
   "outputs": [
    {
     "data": {
      "text/plain": [
       "(4803, 24)"
      ]
     },
     "execution_count": 6,
     "metadata": {},
     "output_type": "execute_result"
    }
   ],
   "source": [
    "movies_data.shape"
   ]
  },
  {
   "cell_type": "code",
   "execution_count": 7,
   "id": "6d37ce99",
   "metadata": {},
   "outputs": [
    {
     "data": {
      "text/plain": [
       "0       [{\"iso_639_1\": \"en\", \"name\": \"English\"}, {\"iso...\n",
       "1                [{\"iso_639_1\": \"en\", \"name\": \"English\"}]\n",
       "2       [{\"iso_639_1\": \"fr\", \"name\": \"Fran\\u00e7ais\"},...\n",
       "3                [{\"iso_639_1\": \"en\", \"name\": \"English\"}]\n",
       "4                [{\"iso_639_1\": \"en\", \"name\": \"English\"}]\n",
       "                              ...                        \n",
       "4798        [{\"iso_639_1\": \"es\", \"name\": \"Espa\\u00f1ol\"}]\n",
       "4799                                                   []\n",
       "4800             [{\"iso_639_1\": \"en\", \"name\": \"English\"}]\n",
       "4801             [{\"iso_639_1\": \"en\", \"name\": \"English\"}]\n",
       "4802             [{\"iso_639_1\": \"en\", \"name\": \"English\"}]\n",
       "Name: spoken_languages, Length: 4803, dtype: object"
      ]
     },
     "execution_count": 7,
     "metadata": {},
     "output_type": "execute_result"
    }
   ],
   "source": [
    "movies_data.spoken_languages"
   ]
  },
  {
   "cell_type": "code",
   "execution_count": 8,
   "id": "c3159273",
   "metadata": {},
   "outputs": [
    {
     "data": {
      "text/plain": [
       "['genres', 'keywords', 'tagline', 'cast', 'director']"
      ]
     },
     "execution_count": 8,
     "metadata": {},
     "output_type": "execute_result"
    }
   ],
   "source": [
    "selected_features=['genres','keywords','tagline', 'cast', 'director' ]\n",
    "selected_features"
   ]
  },
  {
   "cell_type": "code",
   "execution_count": 9,
   "id": "2674d23a",
   "metadata": {},
   "outputs": [],
   "source": [
    "for feature in selected_features:\n",
    "    movies_data[feature] = movies_data[feature].fillna('')"
   ]
  },
  {
   "cell_type": "code",
   "execution_count": 10,
   "id": "fe2b78e1",
   "metadata": {},
   "outputs": [],
   "source": [
    "combined_features =  movies_data['genres']+' '+movies_data['keywords']+' '+movies_data['tagline']+' '+movies_data['cast']+' '+movies_data['director' ]"
   ]
  },
  {
   "cell_type": "code",
   "execution_count": 11,
   "id": "332838d0",
   "metadata": {},
   "outputs": [
    {
     "data": {
      "text/plain": [
       "0    Action Adventure Fantasy Science Fiction cultu...\n",
       "1    Adventure Fantasy Action ocean drug abuse exot...\n",
       "2    Action Adventure Crime spy based on novel secr...\n",
       "3    Action Crime Drama Thriller dc comics crime fi...\n",
       "4    Action Adventure Science Fiction based on nove...\n",
       "dtype: object"
      ]
     },
     "execution_count": 11,
     "metadata": {},
     "output_type": "execute_result"
    }
   ],
   "source": [
    "combined_features.head()"
   ]
  },
  {
   "cell_type": "code",
   "execution_count": 12,
   "id": "cb43ab38",
   "metadata": {},
   "outputs": [],
   "source": [
    "vectorizer = TfidfVectorizer()"
   ]
  },
  {
   "cell_type": "code",
   "execution_count": 13,
   "id": "0d4984fc",
   "metadata": {},
   "outputs": [],
   "source": [
    "feature_vectors = vectorizer.fit_transform(combined_features)"
   ]
  },
  {
   "cell_type": "code",
   "execution_count": 14,
   "id": "260dc345",
   "metadata": {},
   "outputs": [
    {
     "data": {
      "text/plain": [
       "(4803, 17318)"
      ]
     },
     "execution_count": 14,
     "metadata": {},
     "output_type": "execute_result"
    }
   ],
   "source": [
    "feature_vectors.shape"
   ]
  },
  {
   "cell_type": "code",
   "execution_count": 15,
   "id": "7a7a5544",
   "metadata": {},
   "outputs": [],
   "source": [
    "similarity = cosine_similarity(feature_vectors)"
   ]
  },
  {
   "cell_type": "code",
   "execution_count": null,
   "id": "d0218cbc",
   "metadata": {},
   "outputs": [],
   "source": [
    "movie_name = input(\"Enter your favorite movie name: \")"
   ]
  },
  {
   "cell_type": "code",
   "execution_count": 30,
   "id": "7fb3c730",
   "metadata": {},
   "outputs": [],
   "source": [
    "list_of_all_titles = movies_data['title'].tolist()"
   ]
  },
  {
   "cell_type": "code",
   "execution_count": 31,
   "id": "b8fde488",
   "metadata": {},
   "outputs": [],
   "source": [
    "#Finding the close match for the movie name given by the user\n",
    "find_close_match = difflib.get_close_matches(movie_name, list_of_all_titles)"
   ]
  },
  {
   "cell_type": "code",
   "execution_count": 32,
   "id": "785b372c",
   "metadata": {},
   "outputs": [
    {
     "data": {
      "text/plain": [
       "'Training Day'"
      ]
     },
     "execution_count": 32,
     "metadata": {},
     "output_type": "execute_result"
    }
   ],
   "source": [
    "close_match = find_close_match[0]\n",
    "close_match"
   ]
  },
  {
   "cell_type": "code",
   "execution_count": 33,
   "id": "5234d64c",
   "metadata": {},
   "outputs": [],
   "source": [
    "#Finding the index of the movie with the title\n",
    "index_of_the_movie = movies_data[movies_data.title == close_match]['index'].values[0]"
   ]
  },
  {
   "cell_type": "code",
   "execution_count": 34,
   "id": "0ba108e4",
   "metadata": {},
   "outputs": [
    {
     "data": {
      "text/plain": [
       "1052"
      ]
     },
     "execution_count": 34,
     "metadata": {},
     "output_type": "execute_result"
    }
   ],
   "source": [
    "index_of_the_movie"
   ]
  },
  {
   "cell_type": "code",
   "execution_count": 35,
   "id": "b66188d3",
   "metadata": {},
   "outputs": [],
   "source": [
    "#getting a list of similar movies\n",
    "similarity_score = list(enumerate(similarity[index_of_the_movie]))\n"
   ]
  },
  {
   "cell_type": "code",
   "execution_count": 36,
   "id": "319d63fd",
   "metadata": {},
   "outputs": [],
   "source": [
    "sorted_similar_movies = sorted(similarity_score, key = lambda x:x[1], reverse = True) "
   ]
  },
  {
   "cell_type": "code",
   "execution_count": 37,
   "id": "60938979",
   "metadata": {},
   "outputs": [
    {
     "name": "stdout",
     "output_type": "stream",
     "text": [
      "Movies Suggested for you : \n",
      "\n",
      "1  Training Day\n",
      "2  Traffic\n",
      "3  Blow\n",
      "4  American Gangster\n",
      "5  Brooklyn's Finest\n",
      "6  Limbo\n",
      "7  Layer Cake\n",
      "8  Open Road\n",
      "9  The Equalizer\n",
      "10  Harley Davidson and the Marlboro Man\n"
     ]
    }
   ],
   "source": [
    "print('Movies Suggested for you : \\n')\n",
    "i= 1\n",
    "for movie in sorted_similar_movies:\n",
    "    index= movie[0]\n",
    "    title_from_index = movies_data[movies_data.index ==index]['title'].values[0]\n",
    "    if(i<11):\n",
    "        print(i, '', title_from_index)\n",
    "        i+=1"
   ]
  },
  {
   "cell_type": "code",
   "execution_count": null,
   "id": "6a140d49",
   "metadata": {},
   "outputs": [],
   "source": []
  }
 ],
 "metadata": {
  "kernelspec": {
   "display_name": "Python 3 (ipykernel)",
   "language": "python",
   "name": "python3"
  },
  "language_info": {
   "codemirror_mode": {
    "name": "ipython",
    "version": 3
   },
   "file_extension": ".py",
   "mimetype": "text/x-python",
   "name": "python",
   "nbconvert_exporter": "python",
   "pygments_lexer": "ipython3",
   "version": "3.8.12"
  }
 },
 "nbformat": 4,
 "nbformat_minor": 5
}
